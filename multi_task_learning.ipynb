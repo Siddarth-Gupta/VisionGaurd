{
  "nbformat": 4,
  "nbformat_minor": 0,
  "metadata": {
    "colab": {
      "provenance": [],
      "gpuType": "T4"
    },
    "kernelspec": {
      "name": "python3",
      "display_name": "Python 3"
    },
    "language_info": {
      "name": "python"
    },
    "accelerator": "GPU"
  },
  "cells": [
    {
      "cell_type": "code",
      "source": [
        "!pip install -q kaggle"
      ],
      "metadata": {
        "id": "Xr4MNOWI0Vig"
      },
      "execution_count": 1,
      "outputs": []
    },
    {
      "cell_type": "code",
      "source": [
        "from google.colab import files"
      ],
      "metadata": {
        "id": "rtqrPR0_0VMJ"
      },
      "execution_count": 2,
      "outputs": []
    },
    {
      "cell_type": "code",
      "source": [
        "files.upload()"
      ],
      "metadata": {
        "colab": {
          "base_uri": "https://localhost:8080/",
          "height": 90
        },
        "id": "lPgoz-l40aCz",
        "outputId": "b9b208c9-2449-4429-8129-9525c0d0c1e6"
      },
      "execution_count": 3,
      "outputs": [
        {
          "output_type": "display_data",
          "data": {
            "text/plain": [
              "<IPython.core.display.HTML object>"
            ],
            "text/html": [
              "\n",
              "     <input type=\"file\" id=\"files-c9142010-46df-4901-a582-225eb98b6be8\" name=\"files[]\" multiple disabled\n",
              "        style=\"border:none\" />\n",
              "     <output id=\"result-c9142010-46df-4901-a582-225eb98b6be8\">\n",
              "      Upload widget is only available when the cell has been executed in the\n",
              "      current browser session. Please rerun this cell to enable.\n",
              "      </output>\n",
              "      <script>// Copyright 2017 Google LLC\n",
              "//\n",
              "// Licensed under the Apache License, Version 2.0 (the \"License\");\n",
              "// you may not use this file except in compliance with the License.\n",
              "// You may obtain a copy of the License at\n",
              "//\n",
              "//      http://www.apache.org/licenses/LICENSE-2.0\n",
              "//\n",
              "// Unless required by applicable law or agreed to in writing, software\n",
              "// distributed under the License is distributed on an \"AS IS\" BASIS,\n",
              "// WITHOUT WARRANTIES OR CONDITIONS OF ANY KIND, either express or implied.\n",
              "// See the License for the specific language governing permissions and\n",
              "// limitations under the License.\n",
              "\n",
              "/**\n",
              " * @fileoverview Helpers for google.colab Python module.\n",
              " */\n",
              "(function(scope) {\n",
              "function span(text, styleAttributes = {}) {\n",
              "  const element = document.createElement('span');\n",
              "  element.textContent = text;\n",
              "  for (const key of Object.keys(styleAttributes)) {\n",
              "    element.style[key] = styleAttributes[key];\n",
              "  }\n",
              "  return element;\n",
              "}\n",
              "\n",
              "// Max number of bytes which will be uploaded at a time.\n",
              "const MAX_PAYLOAD_SIZE = 100 * 1024;\n",
              "\n",
              "function _uploadFiles(inputId, outputId) {\n",
              "  const steps = uploadFilesStep(inputId, outputId);\n",
              "  const outputElement = document.getElementById(outputId);\n",
              "  // Cache steps on the outputElement to make it available for the next call\n",
              "  // to uploadFilesContinue from Python.\n",
              "  outputElement.steps = steps;\n",
              "\n",
              "  return _uploadFilesContinue(outputId);\n",
              "}\n",
              "\n",
              "// This is roughly an async generator (not supported in the browser yet),\n",
              "// where there are multiple asynchronous steps and the Python side is going\n",
              "// to poll for completion of each step.\n",
              "// This uses a Promise to block the python side on completion of each step,\n",
              "// then passes the result of the previous step as the input to the next step.\n",
              "function _uploadFilesContinue(outputId) {\n",
              "  const outputElement = document.getElementById(outputId);\n",
              "  const steps = outputElement.steps;\n",
              "\n",
              "  const next = steps.next(outputElement.lastPromiseValue);\n",
              "  return Promise.resolve(next.value.promise).then((value) => {\n",
              "    // Cache the last promise value to make it available to the next\n",
              "    // step of the generator.\n",
              "    outputElement.lastPromiseValue = value;\n",
              "    return next.value.response;\n",
              "  });\n",
              "}\n",
              "\n",
              "/**\n",
              " * Generator function which is called between each async step of the upload\n",
              " * process.\n",
              " * @param {string} inputId Element ID of the input file picker element.\n",
              " * @param {string} outputId Element ID of the output display.\n",
              " * @return {!Iterable<!Object>} Iterable of next steps.\n",
              " */\n",
              "function* uploadFilesStep(inputId, outputId) {\n",
              "  const inputElement = document.getElementById(inputId);\n",
              "  inputElement.disabled = false;\n",
              "\n",
              "  const outputElement = document.getElementById(outputId);\n",
              "  outputElement.innerHTML = '';\n",
              "\n",
              "  const pickedPromise = new Promise((resolve) => {\n",
              "    inputElement.addEventListener('change', (e) => {\n",
              "      resolve(e.target.files);\n",
              "    });\n",
              "  });\n",
              "\n",
              "  const cancel = document.createElement('button');\n",
              "  inputElement.parentElement.appendChild(cancel);\n",
              "  cancel.textContent = 'Cancel upload';\n",
              "  const cancelPromise = new Promise((resolve) => {\n",
              "    cancel.onclick = () => {\n",
              "      resolve(null);\n",
              "    };\n",
              "  });\n",
              "\n",
              "  // Wait for the user to pick the files.\n",
              "  const files = yield {\n",
              "    promise: Promise.race([pickedPromise, cancelPromise]),\n",
              "    response: {\n",
              "      action: 'starting',\n",
              "    }\n",
              "  };\n",
              "\n",
              "  cancel.remove();\n",
              "\n",
              "  // Disable the input element since further picks are not allowed.\n",
              "  inputElement.disabled = true;\n",
              "\n",
              "  if (!files) {\n",
              "    return {\n",
              "      response: {\n",
              "        action: 'complete',\n",
              "      }\n",
              "    };\n",
              "  }\n",
              "\n",
              "  for (const file of files) {\n",
              "    const li = document.createElement('li');\n",
              "    li.append(span(file.name, {fontWeight: 'bold'}));\n",
              "    li.append(span(\n",
              "        `(${file.type || 'n/a'}) - ${file.size} bytes, ` +\n",
              "        `last modified: ${\n",
              "            file.lastModifiedDate ? file.lastModifiedDate.toLocaleDateString() :\n",
              "                                    'n/a'} - `));\n",
              "    const percent = span('0% done');\n",
              "    li.appendChild(percent);\n",
              "\n",
              "    outputElement.appendChild(li);\n",
              "\n",
              "    const fileDataPromise = new Promise((resolve) => {\n",
              "      const reader = new FileReader();\n",
              "      reader.onload = (e) => {\n",
              "        resolve(e.target.result);\n",
              "      };\n",
              "      reader.readAsArrayBuffer(file);\n",
              "    });\n",
              "    // Wait for the data to be ready.\n",
              "    let fileData = yield {\n",
              "      promise: fileDataPromise,\n",
              "      response: {\n",
              "        action: 'continue',\n",
              "      }\n",
              "    };\n",
              "\n",
              "    // Use a chunked sending to avoid message size limits. See b/62115660.\n",
              "    let position = 0;\n",
              "    do {\n",
              "      const length = Math.min(fileData.byteLength - position, MAX_PAYLOAD_SIZE);\n",
              "      const chunk = new Uint8Array(fileData, position, length);\n",
              "      position += length;\n",
              "\n",
              "      const base64 = btoa(String.fromCharCode.apply(null, chunk));\n",
              "      yield {\n",
              "        response: {\n",
              "          action: 'append',\n",
              "          file: file.name,\n",
              "          data: base64,\n",
              "        },\n",
              "      };\n",
              "\n",
              "      let percentDone = fileData.byteLength === 0 ?\n",
              "          100 :\n",
              "          Math.round((position / fileData.byteLength) * 100);\n",
              "      percent.textContent = `${percentDone}% done`;\n",
              "\n",
              "    } while (position < fileData.byteLength);\n",
              "  }\n",
              "\n",
              "  // All done.\n",
              "  yield {\n",
              "    response: {\n",
              "      action: 'complete',\n",
              "    }\n",
              "  };\n",
              "}\n",
              "\n",
              "scope.google = scope.google || {};\n",
              "scope.google.colab = scope.google.colab || {};\n",
              "scope.google.colab._files = {\n",
              "  _uploadFiles,\n",
              "  _uploadFilesContinue,\n",
              "};\n",
              "})(self);\n",
              "</script> "
            ]
          },
          "metadata": {}
        },
        {
          "output_type": "stream",
          "name": "stdout",
          "text": [
            "Saving kaggle.json to kaggle.json\n"
          ]
        },
        {
          "output_type": "execute_result",
          "data": {
            "text/plain": [
              "{'kaggle.json': b'{\"username\":\"bourn23\",\"key\":\"1acecc1aaacbd1feb67341e71bac006b\"}'}"
            ]
          },
          "metadata": {},
          "execution_count": 3
        }
      ]
    },
    {
      "cell_type": "code",
      "source": [
        "! mkdir ~/.kaggle"
      ],
      "metadata": {
        "id": "_0PJAO3S0aFS"
      },
      "execution_count": 4,
      "outputs": []
    },
    {
      "cell_type": "code",
      "source": [
        "! cp kaggle.json ~/.kaggle/"
      ],
      "metadata": {
        "id": "nlAfSlpT0aHv"
      },
      "execution_count": 5,
      "outputs": []
    },
    {
      "cell_type": "code",
      "source": [
        "! chmod 600 ~/.kaggle/kaggle.json"
      ],
      "metadata": {
        "id": "1HOQ-wlN0aJ_"
      },
      "execution_count": 6,
      "outputs": []
    },
    {
      "cell_type": "code",
      "source": [
        "# ! kaggle datasets list"
      ],
      "metadata": {
        "id": "lIFeEe5Y0aML"
      },
      "execution_count": 7,
      "outputs": []
    },
    {
      "cell_type": "code",
      "source": [
        "# ! kaggle competitions download -c 'name-of-competition'\n",
        "!kaggle datasets download -d gunavenkatdoddi/eye-diseases-classification/"
      ],
      "metadata": {
        "colab": {
          "base_uri": "https://localhost:8080/"
        },
        "id": "JRt22zut0aOQ",
        "outputId": "e4ce0c87-124b-45f8-b4a8-804ebf72cc75"
      },
      "execution_count": 8,
      "outputs": [
        {
          "output_type": "stream",
          "name": "stdout",
          "text": [
            "Downloading eye-diseases-classification.zip to /content\n",
            " 98% 721M/736M [00:08<00:00, 144MB/s]\n",
            "100% 736M/736M [00:08<00:00, 90.5MB/s]\n"
          ]
        }
      ]
    },
    {
      "cell_type": "code",
      "source": [
        "!unzip eye-diseases-classification.zip -d eye-diseases-classification"
      ],
      "metadata": {
        "id": "Jp5nik8J1tPK"
      },
      "execution_count": null,
      "outputs": []
    },
    {
      "cell_type": "markdown",
      "source": [
        "## Setup Model (for retina training)"
      ],
      "metadata": {
        "id": "I9pARASE1fPm"
      }
    },
    {
      "cell_type": "code",
      "source": [
        "# ref: https://www.kaggle.com/code/bourn23/the-power-of-transfer-learning/\n",
        "# ref: https://www.kaggle.com/code/ahmedmohsen2002/the-power-of-transfer-learning/notebook\n",
        "# dataset:"
      ],
      "metadata": {
        "id": "Y-b6aEGlDZAU"
      },
      "execution_count": 59,
      "outputs": []
    },
    {
      "cell_type": "code",
      "source": [
        "import tensorflow as tf"
      ],
      "metadata": {
        "id": "SDeyoAgQ0aQh"
      },
      "execution_count": 9,
      "outputs": []
    },
    {
      "cell_type": "code",
      "source": [
        "print(\"Num GPUs Available: \", len(tf.config.experimental.list_physical_devices('GPU')))\n"
      ],
      "metadata": {
        "colab": {
          "base_uri": "https://localhost:8080/"
        },
        "id": "4dEez84w08Hj",
        "outputId": "0c67ac89-baa4-4d46-98fa-d8b73539bdbf"
      },
      "execution_count": 10,
      "outputs": [
        {
          "output_type": "stream",
          "name": "stdout",
          "text": [
            "Num GPUs Available:  1\n"
          ]
        }
      ]
    },
    {
      "cell_type": "code",
      "source": [
        "from tensorflow.keras.applications import EfficientNetB3"
      ],
      "metadata": {
        "id": "nA6-70xW08J5"
      },
      "execution_count": 11,
      "outputs": []
    },
    {
      "cell_type": "code",
      "source": [
        "def make_model():\n",
        "    effnet = EfficientNetB3(include_top=False, weights=\"imagenet\",input_shape=(224,224,3), pooling='max')\n",
        "    effnet.trainable=False\n",
        "\n",
        "    for layer in effnet.layers[83:]:\n",
        "      layer.trainable=True\n",
        "\n",
        "    x = effnet.output\n",
        "    x = BatchNormalization()(x)\n",
        "    x = Dense(1024, kernel_regularizer = regularizers.l2(l = 0.016),activity_regularizer=regularizers.l1(0.006),\n",
        "                    bias_regularizer=regularizers.l1(0.006) ,activation='relu')(x)\n",
        "    x = Dropout(rate=.45, seed=2022)(x)\n",
        "    output=Dense(4, activation='softmax')(x)\n",
        "\n",
        "    model= tf.keras.Model(inputs=effnet.input, outputs=output)\n",
        "    model.compile(optimizer = 'adamax', loss='sparse_categorical_crossentropy', metrics=['accuracy'])\n",
        "    return model"
      ],
      "metadata": {
        "id": "525yqrbR08MR"
      },
      "execution_count": 12,
      "outputs": []
    },
    {
      "cell_type": "code",
      "source": [
        "# some extra imports\n",
        "\n",
        "from tensorflow.keras.layers import BatchNormalization, Dense, Dropout\n",
        "from tensorflow.keras import regularizers"
      ],
      "metadata": {
        "id": "LcLhbfQ608OW"
      },
      "execution_count": 13,
      "outputs": []
    },
    {
      "cell_type": "code",
      "source": [
        "model = make_model()"
      ],
      "metadata": {
        "colab": {
          "base_uri": "https://localhost:8080/"
        },
        "id": "WZXo1JeP08Qk",
        "outputId": "6dced85c-8c02-4506-f3df-56bb9176d3d8"
      },
      "execution_count": 14,
      "outputs": [
        {
          "output_type": "stream",
          "name": "stdout",
          "text": [
            "Downloading data from https://storage.googleapis.com/keras-applications/efficientnetb3_notop.h5\n",
            "43941136/43941136 [==============================] - 0s 0us/step\n"
          ]
        }
      ]
    },
    {
      "cell_type": "markdown",
      "source": [
        "### Setup data loaders"
      ],
      "metadata": {
        "id": "t4_vCjHE1h-v"
      }
    },
    {
      "cell_type": "code",
      "source": [
        "# generating dataset from directory\n",
        "\n",
        "# Generating train dataset\n",
        "data = tf.keras.utils.image_dataset_from_directory(directory = './eye-diseases-classification/dataset',\n",
        "                                                   color_mode = 'rgb',\n",
        "                                                   batch_size = 64,\n",
        "                                                   image_size = (224,224),\n",
        "                                                   shuffle=True,\n",
        "                                                   seed = 2022)\n"
      ],
      "metadata": {
        "colab": {
          "base_uri": "https://localhost:8080/"
        },
        "id": "fv9VXhv-1ki9",
        "outputId": "457941d0-847d-4ac5-db58-1bfdce4e9432"
      },
      "execution_count": 19,
      "outputs": [
        {
          "output_type": "stream",
          "name": "stdout",
          "text": [
            "Found 4217 files belonging to 4 classes.\n"
          ]
        }
      ]
    },
    {
      "cell_type": "code",
      "source": [
        "# getting class names\n",
        "class_names = data.class_names\n",
        "for idx, name in enumerate(class_names):\n",
        "  print(f\"{idx} = {name}\", end=\", \")"
      ],
      "metadata": {
        "colab": {
          "base_uri": "https://localhost:8080/"
        },
        "id": "2L0kOMvH1klR",
        "outputId": "11826647-b4c4-4ace-a0ad-3b483ed62a64"
      },
      "execution_count": 20,
      "outputs": [
        {
          "output_type": "stream",
          "name": "stdout",
          "text": [
            "0 = cataract, 1 = diabetic_retinopathy, 2 = glaucoma, 3 = normal, "
          ]
        }
      ]
    },
    {
      "cell_type": "markdown",
      "source": [
        "### Preprocess image"
      ],
      "metadata": {
        "id": "CP_bzTeq2GBR"
      }
    },
    {
      "cell_type": "code",
      "source": [
        "data = data.map(lambda x, y: (x/255, y))"
      ],
      "metadata": {
        "id": "GqJ7Zj5K1knF"
      },
      "execution_count": 21,
      "outputs": []
    },
    {
      "cell_type": "code",
      "source": [
        "sample = data.as_numpy_iterator().next()"
      ],
      "metadata": {
        "id": "E4nXfL3J2H6g"
      },
      "execution_count": 22,
      "outputs": []
    },
    {
      "cell_type": "code",
      "source": [
        "print(\"Total number of batchs = \",len(data))"
      ],
      "metadata": {
        "colab": {
          "base_uri": "https://localhost:8080/"
        },
        "id": "0Hm9KoUT2H8z",
        "outputId": "e4f12cb7-44c4-42f8-ac01-25e5effca4a3"
      },
      "execution_count": 23,
      "outputs": [
        {
          "output_type": "stream",
          "name": "stdout",
          "text": [
            "Total number of batchs =  66\n"
          ]
        }
      ]
    },
    {
      "cell_type": "code",
      "source": [
        "train_size = int(0.7 * len(data)) +1\n",
        "val_size = int(0.2 * len(data))\n",
        "test_size = int(0.1 * len(data))"
      ],
      "metadata": {
        "id": "YqjKGUGN2H_C"
      },
      "execution_count": 24,
      "outputs": []
    },
    {
      "cell_type": "code",
      "source": [
        "train = data.take(train_size)\n",
        "remaining = data.skip(train_size)\n",
        "val = remaining.take(val_size)\n",
        "test = remaining.skip(val_size)"
      ],
      "metadata": {
        "id": "mlKxRN4D2MY0"
      },
      "execution_count": 25,
      "outputs": []
    },
    {
      "cell_type": "code",
      "source": [
        "print(f\"# train batchs = {len(train)}, # validate batchs = {len(val)}, # test batch = {len(test)}\")\n",
        "len(train) + len(val) + len(test)"
      ],
      "metadata": {
        "colab": {
          "base_uri": "https://localhost:8080/"
        },
        "id": "TmnoCqoe2MbN",
        "outputId": "da73ce32-42c9-4eeb-9ee1-b91eaf2417bd"
      },
      "execution_count": 26,
      "outputs": [
        {
          "output_type": "stream",
          "name": "stdout",
          "text": [
            "# train batchs = 47, # validate batchs = 13, # test batch = 6\n"
          ]
        },
        {
          "output_type": "execute_result",
          "data": {
            "text/plain": [
              "66"
            ]
          },
          "metadata": {},
          "execution_count": 26
        }
      ]
    },
    {
      "cell_type": "code",
      "source": [
        "## Test Set\n",
        "\n",
        "test_iter = test.as_numpy_iterator()"
      ],
      "metadata": {
        "id": "MisQ2nnP2Mc-"
      },
      "execution_count": 27,
      "outputs": []
    },
    {
      "cell_type": "code",
      "source": [
        "import numpy as np"
      ],
      "metadata": {
        "id": "XK98Lmp72Ta-"
      },
      "execution_count": 29,
      "outputs": []
    },
    {
      "cell_type": "code",
      "source": [
        "test_set = {\"images\":np.empty((0,224,224,3)), \"labels\":np.empty(0)}\n",
        "while True:\n",
        "  try:\n",
        "    batch = test_iter.next()\n",
        "    test_set['images'] = np.concatenate((test_set['images'], batch[0]))\n",
        "    test_set['labels'] = np.concatenate((test_set['labels'], batch[1]))\n",
        "  except:\n",
        "    break"
      ],
      "metadata": {
        "id": "DEfEovKc2REJ"
      },
      "execution_count": 30,
      "outputs": []
    },
    {
      "cell_type": "code",
      "source": [
        "y_true = test_set['labels']"
      ],
      "metadata": {
        "id": "rQJwdPsg2RGg"
      },
      "execution_count": 31,
      "outputs": []
    },
    {
      "cell_type": "markdown",
      "source": [
        "### Train model"
      ],
      "metadata": {
        "id": "1OXn663U1lU6"
      }
    },
    {
      "cell_type": "code",
      "source": [
        "from keras.models import Sequential\n",
        "from keras.layers import Dense, Conv2D, MaxPool2D, Dropout, Flatten, BatchNormalization\n",
        "from keras.applications.efficientnet import EfficientNetB3\n",
        "from tensorflow.keras import regularizers\n",
        "from tensorflow.keras.optimizers import Adam, Adamax"
      ],
      "metadata": {
        "id": "WhvGxFP82RI9"
      },
      "execution_count": 32,
      "outputs": []
    },
    {
      "cell_type": "code",
      "source": [
        "from keras import callbacks\n",
        "early_stop = callbacks.EarlyStopping(\n",
        "        monitor=\"val_accuracy\",\n",
        "        patience=10,\n",
        "        verbose=1,\n",
        "        mode=\"max\",\n",
        "        restore_best_weights=True,\n",
        "     )\n",
        "\n",
        "history = model.fit(\n",
        "    train,\n",
        "    validation_data=val,\n",
        "    epochs = 50,\n",
        "    callbacks=[early_stop],\n",
        ")"
      ],
      "metadata": {
        "colab": {
          "base_uri": "https://localhost:8080/"
        },
        "id": "2U6Ct7Rx1Z2k",
        "outputId": "db8b0d6e-6173-4294-f074-1824497b9a0b"
      },
      "execution_count": 33,
      "outputs": [
        {
          "output_type": "stream",
          "name": "stdout",
          "text": [
            "Epoch 1/50\n",
            "47/47 [==============================] - 113s 1s/step - loss: 18.7592 - accuracy: 0.6134 - val_loss: 15.1804 - val_accuracy: 0.3149\n",
            "Epoch 2/50\n",
            "47/47 [==============================] - 72s 1s/step - loss: 12.2262 - accuracy: 0.7653 - val_loss: 10.8888 - val_accuracy: 0.3450\n",
            "Epoch 3/50\n",
            "47/47 [==============================] - 51s 1s/step - loss: 8.6930 - accuracy: 0.8118 - val_loss: 8.0902 - val_accuracy: 0.3822\n",
            "Epoch 4/50\n",
            "47/47 [==============================] - 71s 1s/step - loss: 6.3393 - accuracy: 0.8288 - val_loss: 6.0285 - val_accuracy: 0.4579\n",
            "Epoch 5/50\n",
            "47/47 [==============================] - 51s 1s/step - loss: 4.6788 - accuracy: 0.8467 - val_loss: 4.5174 - val_accuracy: 0.5721\n",
            "Epoch 6/50\n",
            "47/47 [==============================] - 51s 1s/step - loss: 3.4823 - accuracy: 0.8733 - val_loss: 3.3834 - val_accuracy: 0.6947\n",
            "Epoch 7/50\n",
            "47/47 [==============================] - 51s 1s/step - loss: 2.6821 - accuracy: 0.8670 - val_loss: 2.7629 - val_accuracy: 0.6611\n",
            "Epoch 8/50\n",
            "47/47 [==============================] - 51s 1s/step - loss: 2.0371 - accuracy: 0.8880 - val_loss: 2.0648 - val_accuracy: 0.7488\n",
            "Epoch 9/50\n",
            "47/47 [==============================] - 51s 1s/step - loss: 1.6047 - accuracy: 0.8939 - val_loss: 1.6245 - val_accuracy: 0.7981\n",
            "Epoch 10/50\n",
            "47/47 [==============================] - 51s 1s/step - loss: 1.2419 - accuracy: 0.9172 - val_loss: 1.2852 - val_accuracy: 0.8257\n",
            "Epoch 11/50\n",
            "47/47 [==============================] - 71s 1s/step - loss: 1.0128 - accuracy: 0.9159 - val_loss: 0.9807 - val_accuracy: 0.8870\n",
            "Epoch 12/50\n",
            "47/47 [==============================] - 51s 1s/step - loss: 0.8316 - accuracy: 0.9239 - val_loss: 0.8918 - val_accuracy: 0.8606\n",
            "Epoch 13/50\n",
            "47/47 [==============================] - 71s 1s/step - loss: 0.7110 - accuracy: 0.9322 - val_loss: 0.7357 - val_accuracy: 0.9014\n",
            "Epoch 14/50\n",
            "47/47 [==============================] - 52s 1s/step - loss: 0.6070 - accuracy: 0.9358 - val_loss: 0.7351 - val_accuracy: 0.8666\n",
            "Epoch 15/50\n",
            "47/47 [==============================] - 71s 1s/step - loss: 0.5158 - accuracy: 0.9438 - val_loss: 0.6468 - val_accuracy: 0.8786\n",
            "Epoch 16/50\n",
            "47/47 [==============================] - 51s 1s/step - loss: 0.4822 - accuracy: 0.9392 - val_loss: 0.5742 - val_accuracy: 0.8822\n",
            "Epoch 17/50\n",
            "47/47 [==============================] - 51s 1s/step - loss: 0.4186 - accuracy: 0.9538 - val_loss: 0.4859 - val_accuracy: 0.9183\n",
            "Epoch 18/50\n",
            "47/47 [==============================] - 51s 1s/step - loss: 0.3802 - accuracy: 0.9535 - val_loss: 0.4745 - val_accuracy: 0.9050\n",
            "Epoch 19/50\n",
            "47/47 [==============================] - 51s 1s/step - loss: 0.3662 - accuracy: 0.9525 - val_loss: 0.4368 - val_accuracy: 0.9195\n",
            "Epoch 20/50\n",
            "47/47 [==============================] - 51s 1s/step - loss: 0.3443 - accuracy: 0.9571 - val_loss: 0.4250 - val_accuracy: 0.9147\n",
            "Epoch 21/50\n",
            "47/47 [==============================] - 51s 1s/step - loss: 0.3299 - accuracy: 0.9601 - val_loss: 0.4407 - val_accuracy: 0.9171\n",
            "Epoch 22/50\n",
            "47/47 [==============================] - 51s 1s/step - loss: 0.3083 - accuracy: 0.9621 - val_loss: 0.4686 - val_accuracy: 0.9062\n",
            "Epoch 23/50\n",
            "47/47 [==============================] - 51s 1s/step - loss: 0.2731 - accuracy: 0.9688 - val_loss: 0.3722 - val_accuracy: 0.9363\n",
            "Epoch 24/50\n",
            "47/47 [==============================] - 51s 1s/step - loss: 0.2614 - accuracy: 0.9721 - val_loss: 0.3867 - val_accuracy: 0.9315\n",
            "Epoch 25/50\n",
            "47/47 [==============================] - 51s 1s/step - loss: 0.2670 - accuracy: 0.9714 - val_loss: 0.3580 - val_accuracy: 0.9279\n",
            "Epoch 26/50\n",
            "47/47 [==============================] - 71s 1s/step - loss: 0.2447 - accuracy: 0.9741 - val_loss: 0.3901 - val_accuracy: 0.9159\n",
            "Epoch 27/50\n",
            "47/47 [==============================] - 72s 1s/step - loss: 0.2534 - accuracy: 0.9684 - val_loss: 0.3557 - val_accuracy: 0.9279\n",
            "Epoch 28/50\n",
            "47/47 [==============================] - 53s 1s/step - loss: 0.2554 - accuracy: 0.9654 - val_loss: 0.3537 - val_accuracy: 0.9387\n",
            "Epoch 29/50\n",
            "47/47 [==============================] - 52s 1s/step - loss: 0.2316 - accuracy: 0.9741 - val_loss: 0.3534 - val_accuracy: 0.9411\n",
            "Epoch 30/50\n",
            "47/47 [==============================] - 72s 1s/step - loss: 0.2214 - accuracy: 0.9754 - val_loss: 0.3216 - val_accuracy: 0.9315\n",
            "Epoch 31/50\n",
            "47/47 [==============================] - 51s 1s/step - loss: 0.2309 - accuracy: 0.9734 - val_loss: 0.3397 - val_accuracy: 0.9267\n",
            "Epoch 32/50\n",
            "47/47 [==============================] - 51s 1s/step - loss: 0.2143 - accuracy: 0.9761 - val_loss: 0.4439 - val_accuracy: 0.9050\n",
            "Epoch 33/50\n",
            "47/47 [==============================] - 51s 1s/step - loss: 0.2180 - accuracy: 0.9724 - val_loss: 0.3758 - val_accuracy: 0.9243\n",
            "Epoch 34/50\n",
            "47/47 [==============================] - 53s 1s/step - loss: 0.2176 - accuracy: 0.9751 - val_loss: 0.2790 - val_accuracy: 0.9579\n",
            "Epoch 35/50\n",
            "47/47 [==============================] - 51s 1s/step - loss: 0.2010 - accuracy: 0.9801 - val_loss: 0.3383 - val_accuracy: 0.9339\n",
            "Epoch 36/50\n",
            "47/47 [==============================] - 51s 1s/step - loss: 0.2042 - accuracy: 0.9827 - val_loss: 0.3711 - val_accuracy: 0.9351\n",
            "Epoch 37/50\n",
            "47/47 [==============================] - 51s 1s/step - loss: 0.2120 - accuracy: 0.9757 - val_loss: 0.3346 - val_accuracy: 0.9387\n",
            "Epoch 38/50\n",
            "47/47 [==============================] - 51s 1s/step - loss: 0.1896 - accuracy: 0.9817 - val_loss: 0.3373 - val_accuracy: 0.9375\n",
            "Epoch 39/50\n",
            "47/47 [==============================] - 51s 1s/step - loss: 0.1858 - accuracy: 0.9830 - val_loss: 0.3371 - val_accuracy: 0.9411\n",
            "Epoch 40/50\n",
            "47/47 [==============================] - 51s 1s/step - loss: 0.1865 - accuracy: 0.9797 - val_loss: 0.3398 - val_accuracy: 0.9399\n",
            "Epoch 41/50\n",
            "47/47 [==============================] - 51s 1s/step - loss: 0.1719 - accuracy: 0.9827 - val_loss: 0.2616 - val_accuracy: 0.9483\n",
            "Epoch 42/50\n",
            "47/47 [==============================] - 71s 1s/step - loss: 0.1735 - accuracy: 0.9834 - val_loss: 0.3048 - val_accuracy: 0.9411\n",
            "Epoch 43/50\n",
            "47/47 [==============================] - 51s 1s/step - loss: 0.1748 - accuracy: 0.9801 - val_loss: 0.3326 - val_accuracy: 0.9315\n",
            "Epoch 44/50\n",
            "47/47 [==============================] - ETA: 0s - loss: 0.1715 - accuracy: 0.9877Restoring model weights from the end of the best epoch: 34.\n",
            "47/47 [==============================] - 51s 1s/step - loss: 0.1715 - accuracy: 0.9877 - val_loss: 0.2927 - val_accuracy: 0.9435\n",
            "Epoch 44: early stopping\n"
          ]
        }
      ]
    },
    {
      "cell_type": "code",
      "source": [
        "import matplotlib.pyplot as plt\n",
        "\n",
        "# Displaying history loss/accuracy\n",
        "colors = plt.rcParams['axes.prop_cycle'].by_key()['color']\n",
        "def plot_his(history):\n",
        "    plt.figure(figsize=(15,12))\n",
        "    metrics = ['accuracy', 'loss']\n",
        "    for i, metric in enumerate(metrics):\n",
        "        plt.subplot(220+1+i)\n",
        "        plt.plot(history.epoch, history.history[metric], color=colors[0], label='Train')\n",
        "        plt.plot(history.epoch, history.history['val_'+metric],\n",
        "                 color=colors[1], linestyle=\"--\", label='Val')\n",
        "        plt.xlabel('Epoch')\n",
        "        plt.ylabel(metric)\n",
        "        plt.legend()\n",
        "    plt.show()\n",
        "\n",
        "\n",
        "\n",
        "plot_his(history)"
      ],
      "metadata": {
        "colab": {
          "base_uri": "https://localhost:8080/",
          "height": 500
        },
        "id": "Rdt0Xn8w1Z6_",
        "outputId": "737b6e90-13b6-4eb1-e382-1b7dfe8c7bcf"
      },
      "execution_count": 35,
      "outputs": [
        {
          "output_type": "display_data",
          "data": {
            "text/plain": [
              "<Figure size 1500x1200 with 2 Axes>"
            ],
            "image/png": "[encoded data removed]"
          },
          "metadata": {}
        }
      ]
    },
    {
      "cell_type": "code",
      "source": [
        "y_pred = np.argmax(model.predict(test_set['images']), 1)"
      ],
      "metadata": {
        "colab": {
          "base_uri": "https://localhost:8080/"
        },
        "id": "CY7wJDWf1Z9g",
        "outputId": "2a2b929a-ce41-4a84-be8a-6765db6d72f0"
      },
      "execution_count": 36,
      "outputs": [
        {
          "output_type": "stream",
          "name": "stdout",
          "text": [
            "12/12 [==============================] - 10s 211ms/step\n"
          ]
        }
      ]
    },
    {
      "cell_type": "code",
      "source": [
        "from sklearn.metrics import classification_report"
      ],
      "metadata": {
        "id": "vzSrsstXAvSe"
      },
      "execution_count": 39,
      "outputs": []
    },
    {
      "cell_type": "code",
      "source": [
        "print(classification_report(y_true, y_pred, target_names = class_names))"
      ],
      "metadata": {
        "colab": {
          "base_uri": "https://localhost:8080/"
        },
        "id": "DkXsdzKQ1Z_6",
        "outputId": "cadc79f1-c816-461e-c553-a6e81a9a2a1b"
      },
      "execution_count": 40,
      "outputs": [
        {
          "output_type": "stream",
          "name": "stdout",
          "text": [
            "                      precision    recall  f1-score   support\n",
            "\n",
            "            cataract       0.99      0.94      0.96       100\n",
            "diabetic_retinopathy       1.00      1.00      1.00        97\n",
            "            glaucoma       0.91      0.95      0.93        91\n",
            "              normal       0.90      0.92      0.91        89\n",
            "\n",
            "            accuracy                           0.95       377\n",
            "           macro avg       0.95      0.95      0.95       377\n",
            "        weighted avg       0.95      0.95      0.95       377\n",
            "\n"
          ]
        }
      ]
    },
    {
      "cell_type": "code",
      "source": [
        "from sklearn.metrics import confusion_matrix\n",
        "import seaborn as sns"
      ],
      "metadata": {
        "id": "ceTOirYrA0vp"
      },
      "execution_count": 44,
      "outputs": []
    },
    {
      "cell_type": "code",
      "source": [
        "class_names_ = ['Cataract', 'Diabetic Retinopathy', 'Glaucoma', 'Normal']"
      ],
      "metadata": {
        "id": "Ibsh1AP7BJPI"
      },
      "execution_count": 48,
      "outputs": []
    },
    {
      "cell_type": "code",
      "source": [
        "cm = confusion_matrix(y_true, y_pred)\n",
        "plt.figure(figsize=(12, 8))\n",
        "sns.heatmap(cm, annot=True, annot_kws={\"size\": 16}, vmin=0, fmt='g', cmap='Blues', cbar=False)\n",
        "plt.xticks(np.arange(4)+.5, class_names_, rotation=35, fontsize = 16)\n",
        "plt.yticks(np.arange(4)+.5, class_names_, rotation=0, fontsize = 16)\n",
        "plt.xlabel(\"Predicted\", fontsize = 18)\n",
        "plt.ylabel(\"Actual\", fontsize = 18)\n",
        "plt.title(\"Confusion Matrix\")\n",
        "plt.savefig('confusion_matrix.pdf', bbox_inches = 'tight', transparent = True)\n"
      ],
      "metadata": {
        "colab": {
          "base_uri": "https://localhost:8080/",
          "height": 864
        },
        "id": "HPoGhfJn1aCZ",
        "outputId": "6d5deeef-0e67-4f01-d8c3-8084ea8c5276"
      },
      "execution_count": 53,
      "outputs": [
        {
          "output_type": "display_data",
          "data": {
            "text/plain": [
              "<Figure size 1200x800 with 1 Axes>"
            ],
            "image/png": "[encoded data removed]"
          },
          "metadata": {}
        }
      ]
    },
    {
      "cell_type": "code",
      "source": [
        "model.save(\"EffNetB3_weights.h5\")"
      ],
      "metadata": {
        "colab": {
          "base_uri": "https://localhost:8080/"
        },
        "id": "6tzxh8vg1aEw",
        "outputId": "f1535a10-eb50-4316-f8d1-23c5b5f1f28e"
      },
      "execution_count": 54,
      "outputs": [
        {
          "output_type": "stream",
          "name": "stderr",
          "text": [
            "/usr/local/lib/python3.10/dist-packages/keras/src/engine/training.py:3000: UserWarning: You are saving your model as an HDF5 file via `model.save()`. This file format is considered legacy. We recommend using instead the native Keras format, e.g. `model.save('my_model.keras')`.\n",
            "  saving_api.save_model(\n"
          ]
        }
      ]
    },
    {
      "cell_type": "code",
      "source": [
        "model.save(\"/content/drive/MyDrive/hackpsu_fa2023/EffNetB3_model\")"
      ],
      "metadata": {
        "id": "o5blTi3e1aG9"
      },
      "execution_count": 58,
      "outputs": []
    },
    {
      "cell_type": "code",
      "source": [
        "# ref: https://learningmaterialcomputations.medium.com/save-any-file-from-google-colab-to-your-google-drive-caf8291ba59b#:~:text=Step%201%3A%20Mount%20your%20google,that%20you're%20working%20with.&text=Step%202%3A%20Authorise%20Google%20Colab,the%20%E2%80%9CCopy%20Path%E2%80%9D%20option.\n",
        "\n",
        "from google.colab import drive\n",
        "drive.mount('/content/drive')"
      ],
      "metadata": {
        "colab": {
          "base_uri": "https://localhost:8080/"
        },
        "id": "4tB6KVy41aJS",
        "outputId": "981530dd-3a5b-49e9-f712-13a3533309dc"
      },
      "execution_count": 56,
      "outputs": [
        {
          "output_type": "stream",
          "name": "stdout",
          "text": [
            "Mounted at /content/drive\n"
          ]
        }
      ]
    },
    {
      "cell_type": "code",
      "source": [
        "!cp EffNetB3_weights.h5 /content/drive/MyDrive/hackpsu_fa2023/EffNetB3_weights.h5"
      ],
      "metadata": {
        "id": "Unh_kcNn1aL9"
      },
      "execution_count": 57,
      "outputs": []
    },
    {
      "cell_type": "code",
      "source": [
        "!cp eye-diseases-classification -r /content/drive/MyDrive/hackpsu_fa2023/eye-images/"
      ],
      "metadata": {
        "id": "GluyXcz6EY-Y"
      },
      "execution_count": 64,
      "outputs": []
    },
    {
      "cell_type": "markdown",
      "source": [
        "### Export to TF Lite"
      ],
      "metadata": {
        "id": "KrOaoR0dDkdJ"
      }
    },
    {
      "cell_type": "code",
      "source": [
        "# Convert the model to TensorFlow Lite format\n",
        "converter = tf.lite.TFLiteConverter.from_keras_model(model)\n",
        "tflite_model = converter.convert()"
      ],
      "metadata": {
        "id": "z5IafiwXDP_t"
      },
      "execution_count": 60,
      "outputs": []
    },
    {
      "cell_type": "code",
      "source": [
        "# Save the converted model to a .tflite file\n",
        "with open(\"retina_scanner.tflite\", \"wb\") as f:\n",
        "    f.write(tflite_model)"
      ],
      "metadata": {
        "id": "CsC6VMgtDQB_"
      },
      "execution_count": 61,
      "outputs": []
    },
    {
      "cell_type": "code",
      "source": [
        "# Load the TensorFlow Lite model into an interpreter\n",
        "interpreter = tf.lite.Interpreter(model_path=\"retina_scanner.tflite\")\n",
        "interpreter.allocate_tensors()"
      ],
      "metadata": {
        "id": "1trwfCnmDQEW"
      },
      "execution_count": 65,
      "outputs": []
    },
    {
      "cell_type": "code",
      "source": [
        "results = []\n",
        "\n",
        "for image in test_set['images'][:10]:\n",
        "    # Prepare input data (reshape and preprocess a single image)\n",
        "    input_data = image.astype(np.float32)  # Ensure it has the correct shape (224, 224, 3)\n",
        "\n",
        "    # Set input tensor data\n",
        "    interpreter.set_tensor(input_details[0]['index'], [input_data])\n",
        "\n",
        "    # Run inference\n",
        "    interpreter.invoke()\n",
        "\n",
        "    # Get the output tensor\n",
        "    output_details = interpreter.get_output_details()\n",
        "    output_data = interpreter.get_tensor(output_details[0]['index'])\n",
        "\n",
        "    # Use the output data (e.g., post-process and analyze results)\n",
        "    results.append(np.argmax(output_data, 1))\n"
      ],
      "metadata": {
        "id": "4iiSgNeSIJwF"
      },
      "execution_count": 82,
      "outputs": []
    },
    {
      "cell_type": "code",
      "source": [
        "results"
      ],
      "metadata": {
        "colab": {
          "base_uri": "https://localhost:8080/"
        },
        "id": "tDWcpgi8PgmC",
        "outputId": "7ef3c321-4260-4dcf-b890-b44af70d9219"
      },
      "execution_count": 83,
      "outputs": [
        {
          "output_type": "execute_result",
          "data": {
            "text/plain": [
              "[array([1]),\n",
              " array([0]),\n",
              " array([2]),\n",
              " array([0]),\n",
              " array([2]),\n",
              " array([0]),\n",
              " array([3]),\n",
              " array([0]),\n",
              " array([3]),\n",
              " array([2])]"
            ]
          },
          "metadata": {},
          "execution_count": 83
        }
      ]
    },
    {
      "cell_type": "code",
      "source": [],
      "metadata": {
        "id": "yTfArpVhPhIk"
      },
      "execution_count": null,
      "outputs": []
    }
  ]
}